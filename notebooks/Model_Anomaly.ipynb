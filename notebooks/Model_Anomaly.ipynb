{
 "cells": [
  {
   "cell_type": "markdown",
   "metadata": {},
   "source": [
    "# Task B — Modeling & Task C — Anomalies\n",
    "\n",
    "Implement model and anomaly detection here."
   ]
  },
  {
   "cell_type": "code",
   "execution_count": null,
   "metadata": {},
   "outputs": [],
   "source": [
    "\n",
    "import pandas as pd, numpy as np\n",
    "import matplotlib.pyplot as plt, seaborn as sns\n",
    "from pathlib import Path\n",
    "pd.set_option('display.max_columns', 120)\n",
    "plt.style.use('seaborn-v0_8')\n",
    "DATA_DIR = Path('../dataset')\n",
    "sup = pd.read_csv(DATA_DIR/'suppliers.csv')\n",
    "prod = pd.read_csv(DATA_DIR/'products.csv')\n",
    "prices = pd.read_csv(DATA_DIR/'price_lists.csv', parse_dates=['valid_from','valid_to'])\n",
    "po = pd.read_csv(DATA_DIR/'purchase_orders.csv', parse_dates=['order_date','promised_date'])\n",
    "deliv = pd.read_csv(DATA_DIR/'deliveries.csv', parse_dates=['actual_delivery_date'])\n",
    "po = po.merge(deliv, on='order_id', how='left')\n",
    "print(sup.shape, prod.shape, prices.shape, po.shape)\n"
   ]
  },
  {
   "cell_type": "code",
   "execution_count": null,
   "id": "7dcb382d",
   "metadata": {},
   "outputs": [],
   "source": [
    "\n",
    "df = po.query('cancelled == 0').copy()\n",
    "df['late_delivery'] = df['late_delivery'].fillna(0).astype(int)\n",
    "cutoff = pd.Timestamp('2025-03-31')\n",
    "train = df[df['order_date'] <= cutoff].copy()\n",
    "valid = df[df['order_date'] > cutoff].copy()\n",
    "\n",
    "def engineer(d):\n",
    "    out = d.copy()\n",
    "    out['promised_lead_days'] = (out['promised_date'] - out['order_date']).dt.days\n",
    "    out['month'] = out['order_date'].dt.month\n",
    "    out = out.merge(sup[['supplier_id','preferred','rating']], on='supplier_id', how='left')\n",
    "    out = out.merge(prod[['sku','hazard_class']], on='sku', how='left')\n",
    "    out['is_hazard'] = (out['hazard_class']!='none').astype(int)\n",
    "    out['is_eur'] = (out['currency']=='EUR').astype(int)\n",
    "    out = pd.get_dummies(out, columns=['ship_mode','incoterm','payment_terms'], drop_first=True)\n",
    "    return out\n",
    "\n",
    "X_train = engineer(train); X_valid = engineer(valid)\n",
    "y_train = X_train['late_delivery']; y_valid = X_valid['late_delivery']\n",
    "cols_drop = ['order_id','order_date','promised_date','actual_delivery_date','order_notes','sku','currency','hazard_class','late_delivery']\n",
    "X_train = X_train.drop(columns=cols_drop, errors='ignore')\n",
    "X_valid = X_valid.drop(columns=cols_drop, errors='ignore')\n",
    "\n",
    "from sklearn.ensemble import RandomForestClassifier\n",
    "from sklearn.metrics import average_precision_score, roc_auc_score, f1_score\n",
    "clf = RandomForestClassifier(n_estimators=300, random_state=0, class_weight='balanced')\n",
    "clf.fit(X_train, y_train)\n",
    "p_valid = clf.predict_proba(X_valid)[:,1]\n",
    "print('PR-AUC:', average_precision_score(y_valid, p_valid))\n",
    "print('ROC-AUC:', roc_auc_score(y_valid, p_valid))\n"
   ]
  },
  {
   "cell_type": "code",
   "execution_count": null,
   "metadata": {},
   "outputs": [],
   "source": [
    "\n",
    "prices_ = prices.copy()\n",
    "prices_['price_eur'] = np.where(prices_['currency']=='EUR', prices_['price_per_uom'], prices_['price_per_uom']/1.09)\n",
    "results = []\n",
    "for (sid, sku), g in prices_.groupby(['supplier_id','sku']):\n",
    "    g = g.sort_values('valid_from').copy()\n",
    "    x = np.log1p(g['price_eur'])\n",
    "    med = np.median(x)\n",
    "    mad = np.median(np.abs(x - med)) or 1e-6\n",
    "    z = 0.6745*(x - med)/mad\n",
    "    g['robust_z'] = z\n",
    "    top = g.loc[g['robust_z'].abs().sort_values(ascending=False).head(3).index]\n",
    "    for _, r in top.iterrows():\n",
    "        results.append({'supplier_id': sid, 'sku': sku, 'valid_from': r['valid_from'], 'price_eur': r['price_eur'], 'robust_z': r['robust_z']})\n",
    "import pandas as pd\n",
    "pd.DataFrame(results).sort_values('robust_z', key=lambda s: s.abs(), ascending=False).head(10)\n"
   ]
  }
 ],
 "metadata": {
  "kernelspec": {
   "display_name": "Python 3",
   "language": "python",
   "name": "python3"
  },
  "language_info": {
   "name": "python",
   "version": "3.13.7"
  }
 },
 "nbformat": 4,
 "nbformat_minor": 5
}
