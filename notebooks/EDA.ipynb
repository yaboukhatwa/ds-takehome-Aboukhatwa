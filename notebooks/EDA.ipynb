{
 "cells": [
  {
   "cell_type": "markdown",
   "metadata": {},
   "source": [
    "# Task A — EDA & Data Quality\n",
    "\n",
    "Describe findings and visuals here."
   ]
  },
  {
   "cell_type": "code",
   "execution_count": null,
   "id": "8e45a9da",
   "metadata": {},
   "outputs": [],
   "source": [
    "\n",
    "import pandas as pd, numpy as np\n",
    "import matplotlib.pyplot as plt, seaborn as sns\n",
    "from pathlib import Path\n",
    "pd.set_option('display.max_columns', 120)\n",
    "plt.style.use('seaborn-v0_8')\n",
    "DATA_DIR = Path('../dataset')\n",
    "sup = pd.read_csv(DATA_DIR/'suppliers.csv')\n",
    "prod = pd.read_csv(DATA_DIR/'products.csv')\n",
    "prices = pd.read_csv(DATA_DIR/'price_lists.csv', parse_dates=['valid_from','valid_to'])\n",
    "po = pd.read_csv(DATA_DIR/'purchase_orders.csv', parse_dates=['order_date','promised_date'])\n",
    "deliv = pd.read_csv(DATA_DIR/'deliveries.csv', parse_dates=['actual_delivery_date'])\n",
    "po = po.merge(deliv, on='order_id', how='left')\n",
    "print(sup.shape, prod.shape, prices.shape, po.shape)\n"
   ]
  },
  {
   "cell_type": "code",
   "execution_count": null,
   "metadata": {},
   "outputs": [],
   "source": [
    "\n",
    "po['year_month'] = po['order_date'].dt.to_period('M').dt.to_timestamp()\n",
    "late = po.query('cancelled == 0').assign(late_delivery=lambda d: d['late_delivery'].fillna(0).astype(int))\n",
    "monthly = late.groupby('year_month').agg(orders=('order_id','count'), late_rate=('late_delivery','mean')).reset_index()\n",
    "fig, ax = plt.subplots(1,2, figsize=(12,4))\n",
    "sns.lineplot(data=monthly, x='year_month', y='orders', ax=ax[0]); ax[0].set_title('Orders by Month')\n",
    "sns.lineplot(data=monthly, x='year_month', y='late_rate', ax=ax[1]); ax[1].set_title('Late Rate by Month')\n",
    "plt.tight_layout(); plt.show()\n"
   ]
  }
 ],
 "metadata": {
  "kernelspec": {
   "display_name": "Python 3",
   "language": "python",
   "name": "python3"
  },
  "language_info": {
   "name": "python"
  }
 },
 "nbformat": 4,
 "nbformat_minor": 5
}
